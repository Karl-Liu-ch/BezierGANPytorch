{
 "cells": [
  {
   "cell_type": "code",
   "execution_count": null,
   "metadata": {},
   "outputs": [],
   "source": [
    "import numpy as np\n",
    "import matplotlib.pyplot as plt\n",
    "import math\n",
    "from utils import *"
   ]
  },
  {
   "cell_type": "code",
   "execution_count": null,
   "metadata": {},
   "outputs": [],
   "source": [
    "airfoil = np.loadtxt('BETTER/20150114-50 +2 d.dat', skiprows=1)\n",
    "airfoil = interpolate(airfoil, 256, 3)"
   ]
  },
  {
   "cell_type": "code",
   "execution_count": null,
   "metadata": {},
   "outputs": [],
   "source": [
    "x = airfoil[:,0]\n",
    "y = airfoil[:,1]"
   ]
  },
  {
   "cell_type": "code",
   "execution_count": null,
   "metadata": {},
   "outputs": [],
   "source": [
    "plt.plot(x,y)\n",
    "plt.gca().set_aspect('equal', adjustable='box')\n",
    "plt.xlabel('X-coordinate')\n",
    "plt.ylabel('Y-coordinate')\n",
    "plt.grid()"
   ]
  },
  {
   "cell_type": "code",
   "execution_count": null,
   "metadata": {},
   "outputs": [],
   "source": [
    "def hicks_henne(x_coord, y_coord , n, a, w, xM):\n",
    "    y_deformed = np.array(y_coord)\n",
    "    for i in range(n):\n",
    "        ai = a[i]\n",
    "        xMi = xM[i]\n",
    "        wi = w[i]\n",
    "        m = np.log(0.5)/np.log(xMi)\n",
    "        f = np.sin(np.pi * np.array(x_coord) ** m ) ** wi\n",
    "        y_deformed += ai * f\n",
    "        x_1 = []\n",
    "        for j in range(0,1001):\n",
    "            x_1.append(j/1000)\n",
    "        f_b = np.sin(np.pi * np.array(x_1) ** m ) ** wi\n",
    "    return y_deformed\n",
    "\n",
    "def split(af):\n",
    "    half = af[:,0].argmin()\n",
    "    return af[:half,0], af[half:,0],af[:half,1], af[half:,1]\n",
    "\n",
    "def mute_airfoil(airfoil, a_up, a_low):\n",
    "    n = 15\n",
    "    w = np.full(n,2) \n",
    "    xM = np.array([])\n",
    "    for i in range(1,n+1):\n",
    "        x_m =  0.5 * (1 - math.sin(math.pi * 2 * i / n))\n",
    "        xM = np.append(xM,x_m)\n",
    "    xM = np.sort(xM)\n",
    "    x_up, x_low, y_up, y_low = split(airfoil)\n",
    "    y_mod_up = hicks_henne(x_up, y_up, n, a_up, w, xM)\n",
    "    y_mod_low = hicks_henne(x_low, y_low, n, a_low, w, xM)\n",
    "    y_mod = np.concatenate((y_mod_up, y_mod_low))\n",
    "    new_af = np.zeros_like(airfoil)\n",
    "    new_af[:,0] = airfoil[:,0]\n",
    "    new_af[:,1] = y_mod\n",
    "    return new_af"
   ]
  },
  {
   "cell_type": "code",
   "execution_count": null,
   "metadata": {},
   "outputs": [],
   "source": [
    "#inputs\n",
    "n = 15\n",
    "a_up =  [0.0001, 0.002, 0.002, 0.004, 0.002, 0.001, 0.005, 0.005, 0.003, -0.002, 0.002, 0.001, 0.001, 0.001, 0.0001]\n",
    "a_low = [0.0001, -0.01, 0.02, -0.01,  -0.02, -0.002, 0.005, 0.005, 0.003, -0.002, 0.002, 0.001, 0.001, 0.001, 0.0001]\n",
    "x = np.random.normal(size=[30])\n",
    "a_up0 = x[0:1] * 0.0001\n",
    "a_up1 = x[1:6] * 0.001\n",
    "a_up2 = x[6:12] * 0.001\n",
    "a_up3 = x[12:15] * 0.0001\n",
    "a_up = np.concatenate([a_up0, a_up1, a_up2, a_up3])\n",
    "a_low0 = x[15:16] * 0.0001\n",
    "a_low1 = x[16:22] * 0.001\n",
    "a_low2 = x[22:26] * 0.001\n",
    "a_low3 = x[26:] * 0.0001\n",
    "a_low = np.concatenate([a_low0, a_low1, a_low2, a_low3])\n",
    "w = np.full(n,2) \n",
    "\n",
    "xM = np.array([])\n",
    "for i in range(1,n+1):\n",
    "    x_m =  0.5 * (1 - math.sin(math.pi * 2 * i / n))\n",
    "    xM = np.append(xM,x_m)\n",
    "xM = np.sort(xM)\n",
    "\n",
    "airfoil = mute_airfoil(airfoil, a_up=a_up, a_low=a_low)\n",
    "plt.plot(airfoil[:,0],airfoil[:,1])\n",
    "plt.gca().set_aspect('equal', adjustable='box')\n",
    "plt.title('Deformed Airfoil')\n",
    "plt.xlabel('X-coordinate')\n",
    "plt.ylabel('Y-coordinate')\n",
    "plt.grid()"
   ]
  },
  {
   "cell_type": "code",
   "execution_count": 6,
   "metadata": {},
   "outputs": [],
   "source": [
    "from utils import *\n",
    "import re\n",
    "import os\n",
    "LAMBDA = 3\n",
    "dat = re.compile('.dat')\n",
    "root = 'bayesoptim/'\n",
    "\n",
    "airfoils = []\n",
    "for path, dir, files in os.walk(root):\n",
    "    for file in files:\n",
    "        if dat.search(file) is not None:\n",
    "            airfoils.append('{}/{}'.format(path,file))\n",
    "\n",
    "Rbl = 1\n",
    "files.sort()\n",
    "for file in airfoils:\n",
    "    # points = '{}{}'.format(root, file)\n",
    "    points = file\n",
    "    airfoil = np.loadtxt(points, skiprows=1)\n",
    "    af, R, a, b, perf, cd, CD_BL = lowestD(airfoil, Re2= 400000, lamda = LAMBDA, check_thickness=False, modify_thickness = True)\n",
    "    if perf > 39.06369801476684 and CD_BL < 0.00485806493088603:\n",
    "        name = points.split('/')[1].split('.')[0]+f'_{a}_{b}B'\n",
    "        np.savetxt('BETTER/'+name+'.dat', af, header=name, comments=\"\")\n",
    "        print(f'R: {R}, angle: {a}, pose: {b}, perf: {perf}, cruise cd: {cd}, launch cd: {CD_BL}, intersection: {detect_intersect(af)}, thickness: {cal_thickness(af)}, thickness pose: {cal_thickness_percent(af)}, tail cross pose: {check_backpoint(af)}')\n",
    "    os.remove(points)\n",
    "    print('{} removed'.format(points))"
   ]
  }
 ],
 "metadata": {
  "kernelspec": {
   "display_name": "pytorch",
   "language": "python",
   "name": "python3"
  },
  "language_info": {
   "codemirror_mode": {
    "name": "ipython",
    "version": 3
   },
   "file_extension": ".py",
   "mimetype": "text/x-python",
   "name": "python",
   "nbconvert_exporter": "python",
   "pygments_lexer": "ipython3",
   "version": "3.11.2"
  }
 },
 "nbformat": 4,
 "nbformat_minor": 2
}
