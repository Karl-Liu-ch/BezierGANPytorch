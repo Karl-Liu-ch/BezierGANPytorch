{
 "cells": [
  {
   "cell_type": "code",
   "execution_count": null,
   "metadata": {},
   "outputs": [],
   "source": [
    "from simulation import evaluate, interpolate\n",
    "import numpy as np\n",
    "\n",
    "af = np.loadtxt('baseline.dat')\n",
    "af = interpolate(af, 256, 3)\n",
    "# perf, CD = evaluate(af, 0.67)"
   ]
  },
  {
   "cell_type": "code",
   "execution_count": null,
   "metadata": {},
   "outputs": [],
   "source": [
    "perf_BL = 35.981436463391404\n",
    "CD_BL = 0.004539919085800648"
   ]
  },
  {
   "cell_type": "code",
   "execution_count": null,
   "metadata": {},
   "outputs": [],
   "source": [
    "airfoils = []\n",
    "count = 0\n",
    "for i in range(20):\n",
    "    num = str(i+count).zfill(3)\n",
    "    af = np.loadtxt('samples/airfoil'+num+'.dat')\n",
    "    af = interpolate(af, 256, 3)\n",
    "    perf, CD = evaluate(af, 0.67)\n",
    "    if (perf > perf_BL) and (CD < CD_BL):\n",
    "        airfoils.append(i+count)\n",
    "airfoils"
   ]
  },
  {
   "cell_type": "code",
   "execution_count": null,
   "metadata": {},
   "outputs": [],
   "source": [
    "airfoils"
   ]
  }
 ],
 "metadata": {
  "kernelspec": {
   "display_name": "pytorch",
   "language": "python",
   "name": "python3"
  },
  "language_info": {
   "codemirror_mode": {
    "name": "ipython",
    "version": 3
   },
   "file_extension": ".py",
   "mimetype": "text/x-python",
   "name": "python",
   "nbconvert_exporter": "python",
   "pygments_lexer": "ipython3",
   "version": "3.11.2"
  }
 },
 "nbformat": 4,
 "nbformat_minor": 2
}
