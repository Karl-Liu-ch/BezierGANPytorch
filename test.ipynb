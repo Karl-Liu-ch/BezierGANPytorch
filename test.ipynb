{
 "cells": [
  {
   "cell_type": "code",
   "execution_count": null,
   "metadata": {},
   "outputs": [],
   "source": [
    "from simulation import evaluate, interpolate\n",
    "import numpy as np\n",
    "from utils import *\n",
    "import matplotlib.pyplot as plt\n",
    "from xfoil import XFoil\n",
    "from xfoil.model import Airfoil\n",
    "import os, psutil, gc\n",
    "process = psutil.Process()\n",
    "\n",
    "airfoil = np.loadtxt('baseline.dat')\n",
    "airfoil = interpolate(airfoil, 256, 3)\n",
    "\n",
    "xf = XFoil()\n",
    "count = 0\n",
    "af = np.copy(airfoil)\n",
    "cl = 0.65\n",
    "xf.print = 0\n",
    "xf.airfoil = Airfoil(af[:,0], af[:,1])\n",
    "xf.Re = 5.8e4\n",
    "xf.M = 0\n",
    "xf.max_iter = 2000\n",
    "a, cd, cm, cp = xf.cl(cl)\n",
    "perf = cl/cd\n",
    "cdc = cd\n",
    "\n",
    "af = setflap(af, theta=-2, pose = 0.7)\n",
    "xf.airfoil = Airfoil(af[:,0], af[:,1])\n",
    "xf.Re = 4e5\n",
    "xf.M = 0\n",
    "xf.max_iter = 2000\n",
    "a, cl, cd, cm, cp = xf.aseq(-2, 2, 0.5)\n",
    "print(perf, cd.min())\n",
    "del xf"
   ]
  },
  {
   "cell_type": "code",
   "execution_count": null,
   "metadata": {},
   "outputs": [],
   "source": [
    "import numpy as np\n",
    "from utils import *\n",
    "points = 'results/airfoilPPO.dat'\n",
    "airfoil = np.loadtxt(points, skiprows=1)\n",
    "\n",
    "show_airfoil(airfoil)\n",
    "airfoil[:,1] = airfoil[:,1] * 0.06 / cal_thickness(airfoil)\n",
    "af, R, a, b, perf, cd, CD_BL = lowestD(airfoil, lamda=5, check_thickness=False, modify_thickness = True)\n",
    "name = points.split('/')[1].split('.')[0]+f'_{a}_{b}F'\n",
    "# np.savetxt(points.split('.')[0]+f'_{a}_{b}F'+'.dat', af, header=points.split('/')[1].split('.')[0]+f'_{a}_{b}F', comments=\"\")\n",
    "R, a, b, perf, cd, CD_BL"
   ]
  },
  {
   "cell_type": "code",
   "execution_count": null,
   "metadata": {},
   "outputs": [],
   "source": [
    "show_airfoil(af)\n",
    "detect_intersect(af), cal_thickness(af)"
   ]
  },
  {
   "cell_type": "code",
   "execution_count": null,
   "metadata": {},
   "outputs": [],
   "source": [
    "points = 'bayesoptim/ga_hickhenne.dat'\n",
    "airfoil = np.loadtxt(points, skiprows=1)\n",
    "print(cal_thickness(airfoil))\n",
    "perf, _, cd = evalperf(airfoil, cl = 0.65, Re = 58000)\n",
    "airfoil = setflap(airfoil, theta=-2)\n",
    "CD, _ = evalpreset(airfoil, Re=4e5)\n",
    "R = cd + CD * 5\n",
    "print('Successful: CL/CD={:.4f}, R: {}, cd: {}, thickness: {}'.format(perf, R, CD, cal_thickness(airfoil)))"
   ]
  },
  {
   "cell_type": "code",
   "execution_count": null,
   "metadata": {},
   "outputs": [],
   "source": [
    "alphas = [-2,-1.5,-1,-0.5,0,0.5,1]\n",
    "CDs = []\n",
    "for alpha in alphas:\n",
    "    xf = XFoil()\n",
    "    xf.print=0\n",
    "    xf.airfoil = Airfoil(af[:,0], af[:,1])\n",
    "    xf.Re=4e5\n",
    "    xf.max_iter=2000\n",
    "    _, CD, _, _ = xf.a(alpha)\n",
    "    CDs.append(CD)\n",
    "    del xf\n",
    "CDs"
   ]
  },
  {
   "cell_type": "code",
   "execution_count": null,
   "metadata": {},
   "outputs": [],
   "source": [
    "np.linspace(-1,1,5)"
   ]
  },
  {
   "cell_type": "code",
   "execution_count": null,
   "metadata": {},
   "outputs": [],
   "source": [
    "from utils import *\n",
    "import re\n",
    "import os\n",
    "LAMBDA = 3\n",
    "dat = re.compile('.dat')\n",
    "root = 'bayesoptim/'\n",
    "\n",
    "airfoils = []\n",
    "for path, dir, files in os.walk(root):\n",
    "    for file in files:\n",
    "        if dat.search(file) is not None:\n",
    "            airfoils.append('{}/{}'.format(path,file))\n",
    "\n",
    "Rbl = 1\n",
    "files.sort()\n",
    "for file in airfoils:\n",
    "    # points = '{}{}'.format(root, file)\n",
    "    points = file\n",
    "    airfoil = np.loadtxt(points, skiprows=1)\n",
    "    af, R, a, b, perf, cd, CD_BL = lowestD(airfoil, Re2= 400000, lamda = LAMBDA, check_thickness=False, modify_thickness = True)\n",
    "    if perf > 39.06369801476684 and CD_BL < 0.00485806493088603:\n",
    "        name = points.split('/')[1].split('.')[0]+f'_{a}_{b}B'\n",
    "        np.savetxt('BETTER/'+name+'.dat', af, header=name, comments=\"\")\n",
    "        print(f'R: {R}, angle: {a}, pose: {b}, perf: {perf}, cruise cd: {cd}, launch cd: {CD_BL}, intersection: {detect_intersect(af)}, thickness: {cal_thickness(af)}, thickness pose: {cal_thickness_percent(af)}, tail cross pose: {check_backpoint(af)}')\n",
    "    os.remove(points)\n",
    "    print('{} removed'.format(points))"
   ]
  },
  {
   "cell_type": "code",
   "execution_count": null,
   "metadata": {},
   "outputs": [],
   "source": [
    "from utils import *\n",
    "import re\n",
    "import os\n",
    "LAMBDA = 3\n",
    "dat = re.compile('.dat')\n",
    "dat = re.compile('airfoil.*\\.dat')\n",
    "root = 'results/'\n",
    "\n",
    "airfoils = []\n",
    "for path, dir, files in os.walk(root):\n",
    "    for file in files:\n",
    "        if dat.search(file) is not None:\n",
    "            airfoils.append('{}/{}'.format(path,file))\n",
    "\n",
    "Rbl = 1\n",
    "files.sort()\n",
    "for file in airfoils:\n",
    "    # points = '{}{}'.format(root, file)\n",
    "    points = file\n",
    "    airfoil = np.loadtxt(points, skiprows=1)\n",
    "    af, R, a, b, perf, cd, CD_BL = lowestD(airfoil, Re2= 400000, lamda = LAMBDA, check_thickness=False, modify_thickness = True)\n",
    "    if perf > 39.06369801476684 and CD_BL < 0.00485806493088603:\n",
    "        name = points.split('/')[1].split('.')[0]+f'_{a}_{b}B'\n",
    "        np.savetxt('BETTER/'+name+'.dat', af, header=name, comments=\"\")\n",
    "        print(f'R: {R}, angle: {a}, pose: {b}, perf: {perf}, cruise cd: {cd}, launch cd: {CD_BL}, intersection: {detect_intersect(af)}, thickness: {cal_thickness(af)}, thickness pose: {cal_thickness_percent(af)}, tail cross pose: {check_backpoint(af)}')\n",
    "    os.remove(points)\n",
    "    print('{} removed'.format(points))"
   ]
  },
  {
   "cell_type": "code",
   "execution_count": null,
   "metadata": {},
   "outputs": [],
   "source": [
    "from utils import *\n",
    "v = 5.3\n",
    "mass = 0.32\n",
    "area = 0.22\n",
    "d = 0.17\n",
    "thickness = 0.058\n",
    "reynolds = reynolds_pipe(velocity=v, diameter=d)\n",
    "cl = mode_cl(velocity=v, area=area, mass = mass)\n",
    "af = np.loadtxt('bayesoptim/ga_hickhenne_3.dat', skiprows=1)\n",
    "# af = set_thickness_pose(af, 25)\n",
    "# print(cal_thickness_percent(af))\n",
    "# af[:,1] = af[:,1] * thickness / cal_thickness(af)\n",
    "af = interpolate(af, 256, 3)\n",
    "show_airfoil(af)\n",
    "evalperf(af, cl=cl, Re=reynolds)[0]"
   ]
  },
  {
   "cell_type": "code",
   "execution_count": 55,
   "metadata": {},
   "outputs": [
    {
     "data": {
      "image/png": "[encoded data removed]",
      "text/plain": [
       "<Figure size 640x480 with 1 Axes>"
      ]
     },
     "metadata": {},
     "output_type": "display_data"
    }
   ],
   "source": [
    "from utils import *\n",
    "v = 5.7\n",
    "mass = 0.32\n",
    "area = 0.2254\n",
    "d = 0.155\n",
    "thickness = 0.058\n",
    "reynolds = reynolds_pipe(velocity=v, diameter=d)\n",
    "cl = mode_cl(velocity=v, area=area, mass = mass)\n",
    "af = np.loadtxt('bayesoptim/bo_0.dat', skiprows=1)\n",
    "# af = set_thickness_pose(af, 25)\n",
    "# print(cal_thickness_percent(af))\n",
    "af[:,1] = af[:,1] * thickness / cal_thickness(af)\n",
    "# af = derotate(af)\n",
    "# a_up = np.concatenate([np.zeros([10]), np.array([-0.0006, -0.0006, -0.0006, -0.002, -0.005])])\n",
    "# a_low = np.concatenate([np.zeros([10]), np.array([0.0006, 0.0006, 0.0006, 0.002, 0.01])])\n",
    "# af = mute_airfoil(af, a_up, a_low)\n",
    "# af = af[1:255,:]\n",
    "# af = Normalize(af)\n",
    "af = interpolate(af, 256, 3)\n",
    "show_airfoil(af)\n",
    "perf, a, cd = evalperf(af, cl, reynolds)"
   ]
  },
  {
   "cell_type": "code",
   "execution_count": 71,
   "metadata": {},
   "outputs": [
    {
     "data": {
      "image/png": "[encoded data removed]",
      "text/plain": [
       "<Figure size 640x480 with 1 Axes>"
      ]
     },
     "metadata": {},
     "output_type": "display_data"
    },
    {
     "data": {
      "text/plain": [
       "(3.1392, 0.07962979546343912, 3.1392, 39.42242952816975, 0)"
      ]
     },
     "execution_count": 71,
     "metadata": {},
     "output_type": "execute_result"
    }
   ],
   "source": [
    "from utils import *\n",
    "af = np.loadtxt('samples/Airfoils1D_60127_0.70_3.dat', skiprows=1)\n",
    "af[:,1] = af[:,1] * thickness / cal_thickness(af)\n",
    "af = interpolate(af, 256, 3)\n",
    "show_airfoil(af)\n",
    "v = 5.9\n",
    "mass = 0.32\n",
    "area = 0.2254\n",
    "d = 0.155\n",
    "thickness = 0.058\n",
    "reynolds = reynolds_pipe(velocity=v, diameter=d)\n",
    "cl = mode_cl(velocity=v, area=area, mass = mass)\n",
    "perf, a, cd = evalperf(af, cl, reynolds)\n",
    "lift = 0.5 * cl * v ** 2 * 1.225 * area\n",
    "drag = 0.5 * cd * v ** 2 * 1.225 * area\n",
    "lift, drag, mass * 9.81, perf, check_backpoint(af)"
   ]
  },
  {
   "cell_type": "code",
   "execution_count": 85,
   "metadata": {},
   "outputs": [
    {
     "data": {
      "image/png": "[encoded data removed]",
      "text/plain": [
       "<Figure size 640x480 with 1 Axes>"
      ]
     },
     "metadata": {},
     "output_type": "display_data"
    },
    {
     "data": {
      "text/plain": [
       "39.71841293387065"
      ]
     },
     "execution_count": 85,
     "metadata": {},
     "output_type": "execute_result"
    }
   ],
   "source": [
    "from utils import *\n",
    "af = np.loadtxt('BETTER/20150114-50 +2 d.dat', skiprows=1)\n",
    "af[:,1] = af[:,1] * thickness / cal_thickness(af)\n",
    "af = interpolate(af, 256, 3)\n",
    "show_airfoil(af)\n",
    "vs = np.linspace(5.5, 6.2, 8)\n",
    "perfs = []\n",
    "for v in vs:\n",
    "    # v = 5.9\n",
    "    mass = 0.32\n",
    "    area = 0.2254\n",
    "    d = 0.155\n",
    "    thickness = 0.058\n",
    "    reynolds = reynolds_pipe(velocity=v, diameter=d)\n",
    "    cl = mode_cl(velocity=v, area=area, mass = mass)\n",
    "    perf, a, cd = evalperf(af, cl, reynolds)\n",
    "    perfs.append(perf)\n",
    "perfs = np.array(perfs)\n",
    "perfs.mean()"
   ]
  },
  {
   "cell_type": "code",
   "execution_count": 2,
   "metadata": {},
   "outputs": [
    {
     "data": {
      "image/png": "[encoded data removed]",
      "text/plain": [
       "<Figure size 640x480 with 1 Axes>"
      ]
     },
     "metadata": {},
     "output_type": "display_data"
    },
    {
     "name": "stdout",
     "output_type": "stream",
     "text": [
      "16.1\n"
     ]
    },
    {
     "data": {
      "text/plain": [
       "39.73924823990333"
      ]
     },
     "execution_count": 2,
     "metadata": {},
     "output_type": "execute_result"
    }
   ],
   "source": [
    "from utils import *\n",
    "mass = 0.32\n",
    "area = 0.2254\n",
    "d = 0.155\n",
    "thickness = 0.058\n",
    "af = np.loadtxt('bayesoptim/bo_refine_7.dat', skiprows=1)\n",
    "af[:,1] = af[:,1] * thickness / cal_thickness(af)\n",
    "af = interpolate(af, 300, 3)\n",
    "show_airfoil(af)\n",
    "print(cal_thickness_percent(af))\n",
    "vs = np.linspace(5.5, 6.2, 8)\n",
    "perfs = []\n",
    "for v in vs:\n",
    "    reynolds = reynolds_pipe(velocity=v, diameter=d)\n",
    "    cl = mode_cl(velocity=v, area=area, mass = mass)\n",
    "    perf, a, cd = evalperf(af, cl, reynolds)\n",
    "    perfs.append(perf)\n",
    "perfs = np.array(perfs)\n",
    "perfs.mean()"
   ]
  },
  {
   "cell_type": "code",
   "execution_count": 1,
   "metadata": {},
   "outputs": [],
   "source": [
    "from utils import *\n",
    "airfoil = np.loadtxt('bayesoptim/bo_0.dat', skiprows=1)\n",
    "airfoil = interpolate(airfoil, 400, 3)\n",
    "show_airfoil(airfoil)\n",
    "mass = 0.32\n",
    "area = 0.2254\n",
    "d = 0.155\n",
    "perf = type2_simu(airfoil, mass, d, area)\n",
    "perf"
   ]
  }
 ],
 "metadata": {
  "kernelspec": {
   "display_name": "pytorch",
   "language": "python",
   "name": "python3"
  },
  "language_info": {
   "codemirror_mode": {
    "name": "ipython",
    "version": 3
   },
   "file_extension": ".py",
   "mimetype": "text/x-python",
   "name": "python",
   "nbconvert_exporter": "python",
   "pygments_lexer": "ipython3",
   "version": "3.11.2"
  }
 },
 "nbformat": 4,
 "nbformat_minor": 2
}
