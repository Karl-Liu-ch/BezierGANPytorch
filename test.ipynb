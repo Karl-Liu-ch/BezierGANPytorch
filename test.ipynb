{
 "cells": [
  {
   "cell_type": "code",
   "execution_count": null,
   "metadata": {},
   "outputs": [],
   "source": [
    "from simulation import evaluate, interpolate\n",
    "import numpy as np\n",
    "from utils import *\n",
    "import matplotlib.pyplot as plt\n",
    "from xfoil import XFoil\n",
    "from xfoil.model import Airfoil\n",
    "\n",
    "af = np.loadtxt('baseline.dat')\n",
    "af = interpolate(af, 256, 3)\n",
    "\n",
    "cl = 0.65\n",
    "xf = XFoil()\n",
    "xf.print = 0\n",
    "xf.airfoil = Airfoil(af[:,0], af[:,1])\n",
    "xf.Re = 5.8e4\n",
    "xf.M = 0\n",
    "xf.max_iter = 2000\n",
    "a, cd, cm, cp = xf.cl(cl)\n",
    "perf = cl/cd\n",
    "cdc = cd\n",
    "\n",
    "af = setflap(af, theta=-2, pose = 0.7)\n",
    "xf.airfoil = Airfoil(af[:,0], af[:,1])\n",
    "xf.Re = 4e5\n",
    "xf.M = 0\n",
    "xf.max_iter = 2000\n",
    "a, cl, cd, cm, cp = xf.aseq(-2, 2, 0.5)\n",
    "i = cd.argmin()\n",
    "perf, cd[i], a[i], cdc, cdc + cd[i] * 5"
   ]
  },
  {
   "cell_type": "code",
   "execution_count": null,
   "metadata": {},
   "outputs": [],
   "source": [
    "perf_BL = perf\n",
    "CD_BL = cd[i]"
   ]
  },
  {
   "cell_type": "code",
   "execution_count": 1,
   "metadata": {},
   "outputs": [
    {
     "name": "stdout",
     "output_type": "stream",
     "text": [
      "perf:  39.61535236114548 R:  0.040509672835469246\n"
     ]
    },
    {
     "data": {
      "text/plain": [
       "(0.040509672835469246,\n",
       " -2.0,\n",
       " 0.7,\n",
       " 39.61535236114548,\n",
       " 0.016407780349254608,\n",
       " 0.0048203784972429276)"
      ]
     },
     "execution_count": 1,
     "metadata": {},
     "output_type": "execute_result"
    }
   ],
   "source": [
    "import numpy as np\n",
    "from utils import *\n",
    "points = 'bayesoptim/bo_0.dat'\n",
    "airfoil = np.loadtxt(points, skiprows=1)\n",
    "airfoil[:,1] = airfoil[:,1] * 0.06 / cal_thickness(airfoil)\n",
    "af, R, a, b, perf, cd, CD_BL = lowestD(airfoil, lamda=5, check_thickness=False)\n",
    "name = points.split('/')[1].split('.')[0]+f'_{a}_{b}F'\n",
    "np.savetxt(points.split('.')[0]+f'_{a}_{b}F'+'.dat', af, header=points.split('/')[1].split('.')[0]+f'_{a}_{b}F', comments=\"\")\n",
    "R, a, b, perf, cd, CD_BL"
   ]
  },
  {
   "cell_type": "code",
   "execution_count": 2,
   "metadata": {},
   "outputs": [
    {
     "data": {
      "image/png": "[encoded data removed]",
      "text/plain": [
       "<Figure size 640x480 with 1 Axes>"
      ]
     },
     "metadata": {},
     "output_type": "display_data"
    },
    {
     "data": {
      "text/plain": [
       "(False, 0.05709722185952662)"
      ]
     },
     "execution_count": 2,
     "metadata": {},
     "output_type": "execute_result"
    }
   ],
   "source": [
    "show_airfoil(af)\n",
    "detect_intersect(af), cal_thickness(af)"
   ]
  },
  {
   "cell_type": "code",
   "execution_count": null,
   "metadata": {},
   "outputs": [],
   "source": [
    "alphas = [-2,-1.5,-1,-0.5,0,0.5,1]\n",
    "CDs = []\n",
    "for alpha in alphas:\n",
    "    xf = XFoil()\n",
    "    xf.print=0\n",
    "    xf.airfoil = Airfoil(af[:,0], af[:,1])\n",
    "    xf.Re=4e5\n",
    "    xf.max_iter=2000\n",
    "    _, CD, _, _ = xf.a(alpha)\n",
    "    CDs.append(CD)\n",
    "    del xf\n",
    "CDs"
   ]
  },
  {
   "cell_type": "code",
   "execution_count": null,
   "metadata": {},
   "outputs": [],
   "source": [
    "np.linspace(-1,1,5)"
   ]
  },
  {
   "cell_type": "code",
   "execution_count": null,
   "metadata": {},
   "outputs": [],
   "source": [
    "import numpy as np\n",
    "from utils import *\n",
    "\n",
    "def evalpreseta(airfoil, Re = 4e5):\n",
    "    xf = XFoil()\n",
    "    xf.print = 0\n",
    "    xf.airfoil = Airfoil(airfoil[:,0], airfoil[:,1])\n",
    "    xf.Re = Re\n",
    "    # xf.M = 0.11\n",
    "    xf.max_iter = 300\n",
    "    a, CL, CD, cm, cp = xf.aseq(-2, 2, 0.5)\n",
    "    i_nan = np.argwhere(np.isnan(CD))\n",
    "    a = np.delete(a, i_nan)\n",
    "    CD = np.delete(CD, i_nan)\n",
    "    try:\n",
    "        i_min = CD.argmin()\n",
    "        CD = CD[i_min]\n",
    "        a = a[i_min]\n",
    "    except:\n",
    "        CD = np.nan\n",
    "    return CD, a\n",
    "# points = 'BETTER/airfoil001.dat'\n",
    "# airfoil = np.loadtxt(points, skiprows=1)\n",
    "airfoils = np.load('/work3/s212645/BezierGANPytorch/Airfoils/003.npy')\n",
    "airfoils = delete_intersect(airfoils)\n",
    "airfoil = airfoils[33, :, :]\n",
    "airfoil = derotate(airfoil)\n",
    "airfoil = Normalize(airfoil)\n",
    "xhat, yhat = savgol_filter((airfoil[:,0], airfoil[:,1]), 10, 3)\n",
    "airfoil[:,0] = xhat\n",
    "airfoil[:,1] = yhat\n",
    "airfoil = setupflap(airfoil, theta=-2)\n",
    "# CD, aa = evalpreseta(airfoil)\n",
    "\n",
    "xf = XFoil()\n",
    "xf.print = 0\n",
    "xf.airfoil = Airfoil(airfoil[:,0], airfoil[:,1])\n",
    "xf.Re = 4e5\n",
    "xf.max_iter = 200\n",
    "a = np.linspace(-2,2,5)\n",
    "CD = []\n",
    "for alfa in a:\n",
    "    _, cd, _, _ = xf.a(alfa)\n",
    "    CD.append(cd)\n",
    "i_nan = np.argwhere(np.isnan(CD))\n",
    "cds = CD\n",
    "a = np.delete(a, i_nan)\n",
    "CD = np.delete(CD, i_nan)\n",
    "try:\n",
    "    i_min = CD.argmin()\n",
    "    CD = CD[i_min]\n",
    "    a = a[i_min]\n",
    "except:\n",
    "    CD = np.nan\n",
    "        \n",
    "af = setflap(airfoil, theta=2)\n",
    "perf, _, cd = evalperf(af)\n",
    "np.savetxt('BETTER/airfoil001.dat', airfoil, header='airfoil001', comments=\"\")\n",
    "CD, cd, perf, cd + CD * 3, a, cds"
   ]
  },
  {
   "cell_type": "code",
   "execution_count": null,
   "metadata": {},
   "outputs": [],
   "source": [
    "import numpy as np\n",
    "from utils import *\n",
    "points = 'samples/airfoil008.dat'\n",
    "airfoil = np.loadtxt(points, skiprows=1)\n",
    "af, R, a, b, perf, cd, CD_BL = lowestD(airfoil)\n",
    "name = points.split('/')[1].split('.')[0]+f'_{a}_{b}F'\n",
    "np.savetxt(points.split('.')[0]+f'_{a}_{b}F'+'.dat', af, header=points.split('/')[1].split('.')[0]+f'_{a}_{b}F', comments=\"\")\n",
    "\n",
    "R, a, b, perf, cd, CD_BL"
   ]
  },
  {
   "cell_type": "code",
   "execution_count": null,
   "metadata": {},
   "outputs": [],
   "source": []
  }
 ],
 "metadata": {
  "kernelspec": {
   "display_name": "pytorch",
   "language": "python",
   "name": "python3"
  },
  "language_info": {
   "codemirror_mode": {
    "name": "ipython",
    "version": 3
   },
   "file_extension": ".py",
   "mimetype": "text/x-python",
   "name": "python",
   "nbconvert_exporter": "python",
   "pygments_lexer": "ipython3",
   "version": "3.11.2"
  }
 },
 "nbformat": 4,
 "nbformat_minor": 2
}
