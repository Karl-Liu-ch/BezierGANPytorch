{
 "cells": [
  {
   "cell_type": "code",
   "execution_count": null,
   "metadata": {},
   "outputs": [],
   "source": [
    "from simulation import evaluate, interpolate\n",
    "import numpy as np\n",
    "from utils import *\n",
    "import matplotlib.pyplot as plt\n",
    "from xfoil import XFoil\n",
    "from xfoil.model import Airfoil\n",
    "import os, psutil, gc\n",
    "process = psutil.Process()\n",
    "\n",
    "airfoil = np.loadtxt('baseline.dat')\n",
    "airfoil = interpolate(airfoil, 256, 3)\n",
    "\n",
    "xf = XFoil()\n",
    "count = 0\n",
    "af = np.copy(airfoil)\n",
    "cl = 0.65\n",
    "xf.print = 0\n",
    "xf.airfoil = Airfoil(af[:,0], af[:,1])\n",
    "xf.Re = 5.8e4\n",
    "xf.M = 0\n",
    "xf.max_iter = 2000\n",
    "a, cd, cm, cp = xf.cl(cl)\n",
    "perf = cl/cd\n",
    "cdc = cd\n",
    "\n",
    "af = setflap(af, theta=-2, pose = 0.7)\n",
    "xf.airfoil = Airfoil(af[:,0], af[:,1])\n",
    "xf.Re = 4e5\n",
    "xf.M = 0\n",
    "xf.max_iter = 2000\n",
    "a, cl, cd, cm, cp = xf.aseq(-2, 2, 0.5)\n",
    "print(perf, cd.min())\n",
    "del xf"
   ]
  },
  {
   "cell_type": "code",
   "execution_count": null,
   "metadata": {},
   "outputs": [],
   "source": [
    "import numpy as np\n",
    "from utils import *\n",
    "points = 'results/airfoilPPO.dat'\n",
    "airfoil = np.loadtxt(points, skiprows=1)\n",
    "\n",
    "show_airfoil(airfoil)\n",
    "airfoil[:,1] = airfoil[:,1] * 0.06 / cal_thickness(airfoil)\n",
    "af, R, a, b, perf, cd, CD_BL = lowestD(airfoil, lamda=5, check_thickness=False, modify_thickness = True)\n",
    "name = points.split('/')[1].split('.')[0]+f'_{a}_{b}F'\n",
    "# np.savetxt(points.split('.')[0]+f'_{a}_{b}F'+'.dat', af, header=points.split('/')[1].split('.')[0]+f'_{a}_{b}F', comments=\"\")\n",
    "R, a, b, perf, cd, CD_BL"
   ]
  },
  {
   "cell_type": "code",
   "execution_count": null,
   "metadata": {},
   "outputs": [],
   "source": [
    "show_airfoil(af)\n",
    "detect_intersect(af), cal_thickness(af)"
   ]
  },
  {
   "cell_type": "code",
   "execution_count": null,
   "metadata": {},
   "outputs": [],
   "source": [
    "points = 'bayesoptim/ga_hickhenne.dat'\n",
    "airfoil = np.loadtxt(points, skiprows=1)\n",
    "print(cal_thickness(airfoil))\n",
    "perf, _, cd = evalperf(airfoil, cl = 0.65, Re = 58000)\n",
    "airfoil = setflap(airfoil, theta=-2)\n",
    "CD, _ = evalpreset(airfoil, Re=4e5)\n",
    "R = cd + CD * 5\n",
    "print('Successful: CL/CD={:.4f}, R: {}, cd: {}, thickness: {}'.format(perf, R, CD, cal_thickness(airfoil)))"
   ]
  },
  {
   "cell_type": "code",
   "execution_count": null,
   "metadata": {},
   "outputs": [],
   "source": [
    "alphas = [-2,-1.5,-1,-0.5,0,0.5,1]\n",
    "CDs = []\n",
    "for alpha in alphas:\n",
    "    xf = XFoil()\n",
    "    xf.print=0\n",
    "    xf.airfoil = Airfoil(af[:,0], af[:,1])\n",
    "    xf.Re=4e5\n",
    "    xf.max_iter=2000\n",
    "    _, CD, _, _ = xf.a(alpha)\n",
    "    CDs.append(CD)\n",
    "    del xf\n",
    "CDs"
   ]
  },
  {
   "cell_type": "code",
   "execution_count": null,
   "metadata": {},
   "outputs": [],
   "source": [
    "np.linspace(-1,1,5)"
   ]
  },
  {
   "cell_type": "code",
   "execution_count": null,
   "metadata": {},
   "outputs": [],
   "source": [
    "from utils import *\n",
    "import re\n",
    "import os\n",
    "LAMBDA = 3\n",
    "dat = re.compile('.dat')\n",
    "root = 'bayesoptim/'\n",
    "\n",
    "airfoils = []\n",
    "for path, dir, files in os.walk(root):\n",
    "    for file in files:\n",
    "        if dat.search(file) is not None:\n",
    "            airfoils.append('{}/{}'.format(path,file))\n",
    "\n",
    "Rbl = 1\n",
    "files.sort()\n",
    "for file in airfoils:\n",
    "    # points = '{}{}'.format(root, file)\n",
    "    points = file\n",
    "    airfoil = np.loadtxt(points, skiprows=1)\n",
    "    af, R, a, b, perf, cd, CD_BL = lowestD(airfoil, Re2= 400000, lamda = LAMBDA, check_thickness=False, modify_thickness = True)\n",
    "    if perf > 39.06369801476684 and CD_BL < 0.00485806493088603:\n",
    "        name = points.split('/')[1].split('.')[0]+f'_{a}_{b}B'\n",
    "        np.savetxt('BETTER/'+name+'.dat', af, header=name, comments=\"\")\n",
    "        print(f'R: {R}, angle: {a}, pose: {b}, perf: {perf}, cruise cd: {cd}, launch cd: {CD_BL}, intersection: {detect_intersect(af)}, thickness: {cal_thickness(af)}, thickness pose: {cal_thickness_percent(af)}, tail cross pose: {check_backpoint(af)}')\n",
    "    os.remove(points)\n",
    "    print('{} removed'.format(points))"
   ]
  },
  {
   "cell_type": "code",
   "execution_count": 2,
   "metadata": {},
   "outputs": [
    {
     "name": "stdout",
     "output_type": "stream",
     "text": [
      "BETTER/airfoil007F.dat removed\n",
      "BETTER/airfoil002_-2.0_0.6F.dat removed\n",
      "BETTER/airfoil010.dat removed\n",
      "BETTER/airfoil001_-2.0_0.7.dat removed\n",
      "BETTER/airfoil010F.dat removed\n"
     ]
    }
   ],
   "source": [
    "from utils import *\n",
    "import re\n",
    "import os\n",
    "LAMBDA = 3\n",
    "dat = re.compile('.dat')\n",
    "dat = re.compile('airfoil.*\\.dat')\n",
    "root = 'BETTER/'\n",
    "\n",
    "airfoils = []\n",
    "for path, dir, files in os.walk(root):\n",
    "    for file in files:\n",
    "        if dat.search(file) is not None:\n",
    "            airfoils.append('{}/{}'.format(path,file))\n",
    "\n",
    "Rbl = 1\n",
    "files.sort()\n",
    "for file in airfoils:\n",
    "    # points = '{}{}'.format(root, file)\n",
    "    points = file\n",
    "    airfoil = np.loadtxt(points, skiprows=1)\n",
    "    af, R, a, b, perf, cd, CD_BL = lowestD(airfoil, Re2= 400000, lamda = LAMBDA, check_thickness=False, modify_thickness = True)\n",
    "    if perf > 39.06369801476684 and CD_BL < 0.00485806493088603:\n",
    "        name = points.split('/')[1].split('.')[0]+f'_{a}_{b}B'\n",
    "        np.savetxt('BETTER/'+name+'.dat', af, header=name, comments=\"\")\n",
    "        print(f'R: {R}, angle: {a}, pose: {b}, perf: {perf}, cruise cd: {cd}, launch cd: {CD_BL}, intersection: {detect_intersect(af)}, thickness: {cal_thickness(af)}, thickness pose: {cal_thickness_percent(af)}, tail cross pose: {check_backpoint(af)}')\n",
    "    os.remove(points)\n",
    "    print('{} removed'.format(points))"
   ]
  }
 ],
 "metadata": {
  "kernelspec": {
   "display_name": "pytorch",
   "language": "python",
   "name": "python3"
  },
  "language_info": {
   "codemirror_mode": {
    "name": "ipython",
    "version": 3
   },
   "file_extension": ".py",
   "mimetype": "text/x-python",
   "name": "python",
   "nbconvert_exporter": "python",
   "pygments_lexer": "ipython3",
   "version": "3.11.2"
  }
 },
 "nbformat": 4,
 "nbformat_minor": 2
}
